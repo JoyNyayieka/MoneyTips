{
 "cells": [
  {
   "cell_type": "code",
   "execution_count": null,
   "id": "20fe4e3d",
   "metadata": {},
   "outputs": [],
   "source": [
    "import pandas as pd\n",
    "import matplotlib.pyplot as plt\n",
    "\n",
    "\n",
    "df = pd.read_csv(\"data/sample_budget.csv\")\n",
    "df.head()\n"
   ]
  },
  {
   "cell_type": "code",
   "execution_count": null,
   "id": "d190e115",
   "metadata": {},
   "outputs": [],
   "source": [
    "category_summary = df.groupby(\"Category\")[\"Amount_KES\"].sum().sort_values(ascending=False)\n",
    "\n",
    "# Pie chart\n",
    "plt.figure(figsize=(8, 8))\n",
    "plt.pie(category_summary, labels=category_summary.index, autopct='%1.1f%%', startangle=140)\n",
    "plt.title(\"Spending Breakdown by Category\")\n",
    "plt.axis(\"equal\")\n",
    "plt.show()\n"
   ]
  },
  {
   "cell_type": "code",
   "execution_count": null,
   "id": "1d5c5f5a",
   "metadata": {},
   "outputs": [],
   "source": [
    "# Savings logic\n",
    "total_income = 40000  \n",
    "total_expenses = df[\"Amount_KES\"].sum()\n",
    "suggested_savings = total_income * 0.2 \n",
    "actual_savings = max(0, total_income - total_expenses)\n",
    "\n",
    "print(f\"Total Income: KES {total_income}\")\n",
    "print(f\"Total Expenses: KES {total_expenses}\")\n",
    "print(f\"Suggested Savings (20% rule): KES {suggested_savings}\")\n",
    "print(f\"Actual Savings: KES {actual_savings}\")\n"
   ]
  }
 ],
 "metadata": {
  "language_info": {
   "name": "python"
  }
 },
 "nbformat": 4,
 "nbformat_minor": 5
}
